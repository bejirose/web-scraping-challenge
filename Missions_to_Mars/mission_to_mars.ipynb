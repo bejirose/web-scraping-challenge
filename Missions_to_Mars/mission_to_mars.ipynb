{
 "cells": [
  {
   "cell_type": "code",
   "execution_count": null,
   "metadata": {},
   "outputs": [],
   "source": [
    "from splinter import Browser\n",
    "from bs4 import BeautifulSoup\n",
    "import pandas as pd"
   ]
  },
  {
   "cell_type": "markdown",
   "metadata": {},
   "source": [
    "# Mac Users"
   ]
  },
  {
   "cell_type": "code",
   "execution_count": null,
   "metadata": {},
   "outputs": [],
   "source": [
    "#executable_path = {'executable_path': '/usr/local/bin/chromedriver'}\n",
    "#browser = Browser('chrome', **executable_path, headless=False)"
   ]
  },
  {
   "cell_type": "markdown",
   "metadata": {},
   "source": [
    "# Windows Users"
   ]
  },
  {
   "cell_type": "code",
   "execution_count": null,
   "metadata": {},
   "outputs": [],
   "source": [
    "executable_path = {'executable_path': 'chromedriver.exe'}\n",
    "browser = Browser('chrome', **executable_path, headless=False)"
   ]
  },
  {
   "cell_type": "code",
   "execution_count": null,
   "metadata": {},
   "outputs": [],
   "source": [
    "url = 'https://mars.nasa.gov/news/'\n",
    "browser.visit(url)"
   ]
  },
  {
   "cell_type": "markdown",
   "metadata": {},
   "source": [
    "## NASA Mars News"
   ]
  },
  {
   "cell_type": "code",
   "execution_count": null,
   "metadata": {},
   "outputs": [],
   "source": [
    "# find  the latest news\n",
    "html = browser.html\n",
    "\n",
    "# Parse HTML with Beautiful Soup\n",
    "soup = BeautifulSoup(html, 'html.parser')\n",
    "\n",
    "# Retrieve all elements that contain book information\n",
    "#latest_news = soup.find('article', class_='product_pod')\n",
    "#latest_news = soup.find('ul', class=\"content_title\")\n",
    "#news_list = soup.find_all('div', class_='content_title')\n",
    "#latest_news = soup.find_all('div', class_='list_next')\n",
    "news_list = soup.find_all('li', class_='slide')\n",
    "#print(news_list)\n",
    "#link = latest_news[0].find('a')\n",
    "\n",
    "# Iterate through each book\n",
    "for news in news_list:\n",
    "    # Use Beautiful Soup's find() method to navigate and retrieve attributes\n",
    "    news_title = soup.find_all('div', class_='content_title')\n",
    "    for title in news_title:\n",
    "        if (title.a):\n",
    "            latest_news = title.a.text\n",
    "            #rint(latest_news)\n",
    "            break\n",
    "    #h3 = news.find('a')\n",
    "    #for news in news_list:\n",
    "    if (news.a):\n",
    "        latest_text = news.a.text\n",
    "        #rint(news.a.text)\n",
    "        break\n",
    "print(f'News Title =\\\"{latest_news}\\\"\\n')\n",
    "print(f'News Text =\\\"{latest_text}\\\"')   "
   ]
  },
  {
   "cell_type": "markdown",
   "metadata": {},
   "source": [
    "## JPL Mars Space Images - Featured Image"
   ]
  },
  {
   "cell_type": "code",
   "execution_count": null,
   "metadata": {},
   "outputs": [],
   "source": [
    "jpl_url = \"https://www.jpl.nasa.gov/spaceimages/?search=&category=Mars\"\n",
    "\n",
    "browser.visit(jpl_url)\n",
    "\n",
    "jpl_html = browser.html\n",
    "\n",
    "# Parse HTML with Beautiful Soup\n",
    "jpl_soup = BeautifulSoup(jpl_html, 'html.parser')\n",
    "\n",
    "featured_image = jpl_soup.find_all('a', class_= 'button fancybox')\n",
    "#print(featured_image)\n",
    "# Iterate through each book\n",
    "for tag in featured_image:\n",
    "    # Use Beautiful Soup's find() method to navigate and retrieve attributes\n",
    "    image_url = tag['data-fancybox-href']\n",
    "    break\n",
    "    \n",
    "complete_url = jpl_url + image_url\n",
    "print(f'Featured Image URL = {complete_url}')"
   ]
  },
  {
   "cell_type": "markdown",
   "metadata": {},
   "source": [
    "## Mars Facts"
   ]
  },
  {
   "cell_type": "code",
   "execution_count": null,
   "metadata": {},
   "outputs": [],
   "source": [
    "mars_url = \"https://space-facts.com/mars/\"\n",
    "\n",
    "tables = pd.read_html(mars_url)\n",
    "mars_df = tables[0]\n",
    "mars_df.rename(columns = {0:'Fact Heading', 1:'Fact Data'}, inplace = True)\n",
    "mars_df.set_index('Fact Heading', inplace=True)\n",
    "mars_df"
   ]
  },
  {
   "cell_type": "code",
   "execution_count": null,
   "metadata": {},
   "outputs": [],
   "source": [
    "# convert the MARS dataframe to a HTML table string\n",
    "\n",
    "mars_html = mars_df.to_html()\n",
    "mars_html"
   ]
  },
  {
   "cell_type": "markdown",
   "metadata": {},
   "source": [
    "## Mars Hemispheres"
   ]
  },
  {
   "cell_type": "code",
   "execution_count": null,
   "metadata": {},
   "outputs": [],
   "source": [
    "base_url = \"https://astrogeology.usgs.gov/\"\n",
    "mars_hs_url = \"https://astrogeology.usgs.gov/search/results?q=hemisphere+enhanced&k1=target&v1=Mars\"\n",
    "\n",
    "browser.visit(mars_hs_url)\n",
    "\n",
    "mars_hs_html = browser.html\n",
    "\n",
    "# Parse HTML with Beautiful Soup\n",
    "mars_hs_soup = BeautifulSoup(mars_hs_html, 'html.parser')\n",
    "\n",
    "#mars_images = mars_hs_soup.find_all('div', class_='collapsible results')\n",
    "mars_images = mars_hs_soup.find_all('div', class_='item')\n",
    "#print(mars_images)\n",
    "\n",
    "mars_list = []\n",
    "# # Iterate through all pages\n",
    "for image in mars_images:\n",
    "    try:\n",
    "        href = image.a['href']\n",
    "        title = image.find('img')['alt']\n",
    "        href = base_url + href\n",
    "        \n",
    "        browser.visit(href)\n",
    "        mars_hs_html = browser.html\n",
    "\n",
    "        # Parse HTML with Beautiful Soup\n",
    "        mars_hs_soup = BeautifulSoup(mars_hs_html, 'html.parser')\n",
    "     \n",
    "        mars_image_url = mars_hs_soup.find_all('div', class_='downloads')\n",
    "        sample = url.a['href']\n",
    "        for url in mars_image_url:\n",
    "            #print(mars_image_url.find('h3'))\n",
    "            #mars_image_url = mars_hs_soup.find_all('div', class_='item')\n",
    "            sample_url = url.a['href']\n",
    "            #print(url)\n",
    "            mars_list.append({'title': title, 'img_url': sample_url})\n",
    "            break\n",
    "    except:\n",
    "        print(\"scrape complete\")\n",
    "print(mars_list)"
   ]
  },
  {
   "cell_type": "markdown",
   "metadata": {},
   "source": [
    "## Step 2 - MongoDB and Flask Application"
   ]
  },
  {
   "cell_type": "code",
   "execution_count": null,
   "metadata": {},
   "outputs": [],
   "source": []
  },
  {
   "cell_type": "code",
   "execution_count": null,
   "metadata": {},
   "outputs": [],
   "source": []
  }
 ],
 "metadata": {
  "kernelspec": {
   "display_name": "Python 3",
   "language": "python",
   "name": "python3"
  },
  "language_info": {
   "codemirror_mode": {
    "name": "ipython",
    "version": 3
   },
   "file_extension": ".py",
   "mimetype": "text/x-python",
   "name": "python",
   "nbconvert_exporter": "python",
   "pygments_lexer": "ipython3",
   "version": "3.8.2"
  },
  "varInspector": {
   "cols": {
    "lenName": 16,
    "lenType": 16,
    "lenVar": 40
   },
   "kernels_config": {
    "python": {
     "delete_cmd_postfix": "",
     "delete_cmd_prefix": "del ",
     "library": "var_list.py",
     "varRefreshCmd": "print(var_dic_list())"
    },
    "r": {
     "delete_cmd_postfix": ") ",
     "delete_cmd_prefix": "rm(",
     "library": "var_list.r",
     "varRefreshCmd": "cat(var_dic_list()) "
    }
   },
   "types_to_exclude": [
    "module",
    "function",
    "builtin_function_or_method",
    "instance",
    "_Feature"
   ],
   "window_display": false
  }
 },
 "nbformat": 4,
 "nbformat_minor": 2
}
